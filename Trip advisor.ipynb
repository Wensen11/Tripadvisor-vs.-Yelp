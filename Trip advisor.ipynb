{
 "cells": [
  {
   "cell_type": "code",
   "execution_count": 1,
   "id": "6eecf523",
   "metadata": {},
   "outputs": [],
   "source": [
    "from bs4 import BeautifulSoup as soup\n",
    "import urllib.request"
   ]
  },
  {
   "cell_type": "code",
   "execution_count": null,
   "id": "f53a9a4e",
   "metadata": {},
   "outputs": [],
   "source": [
    "Url = 'https://www.tripadvisor.com/Restaurants-g60763-New_York_City_New_York.html'\n",
    "ourUrl = urllib.request.urlopen(Url)\n",
    "b= soup(Url,'lxml')"
   ]
  },
  {
   "cell_type": "code",
   "execution_count": null,
   "id": "3b815594",
   "metadata": {},
   "outputs": [],
   "source": [
    "#b= soup(Url.content,'lxml')"
   ]
  }
 ],
 "metadata": {
  "kernelspec": {
   "display_name": "Python 3",
   "language": "python",
   "name": "python3"
  },
  "language_info": {
   "codemirror_mode": {
    "name": "ipython",
    "version": 3
   },
   "file_extension": ".py",
   "mimetype": "text/x-python",
   "name": "python",
   "nbconvert_exporter": "python",
   "pygments_lexer": "ipython3",
   "version": "3.8.8"
  }
 },
 "nbformat": 4,
 "nbformat_minor": 5
}
